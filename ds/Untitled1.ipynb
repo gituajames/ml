{
 "cells": [
  {
   "cell_type": "code",
   "execution_count": 2,
   "metadata": {},
   "outputs": [],
   "source": [
    "import pyproj"
   ]
  },
  {
   "cell_type": "code",
   "execution_count": 4,
   "metadata": {},
   "outputs": [
    {
     "name": "stdout",
     "output_type": "stream",
     "text": [
      "Distance is 2833.64 meters\n",
      "-141.56638817898647 38.42135092170059\n"
     ]
    }
   ],
   "source": [
    "lat1,long1 = (37.82,-122.42)\n",
    "lat2,long2 = (37.80,-122.44)\n",
    "geod = pyproj.Geod(ellps=\"WGS84\")\n",
    "angle1,angle2,distance = geod.inv(long1, lat1, long2, lat2)\n",
    "print (\"Distance is %0.2f meters\" % distance)\n",
    "print (angle1,angle2)"
   ]
  },
  {
   "cell_type": "code",
   "execution_count": null,
   "metadata": {},
   "outputs": [],
   "source": []
  }
 ],
 "metadata": {
  "kernelspec": {
   "display_name": "Python 3",
   "language": "python",
   "name": "python3"
  },
  "language_info": {
   "codemirror_mode": {
    "name": "ipython",
    "version": 3
   },
   "file_extension": ".py",
   "mimetype": "text/x-python",
   "name": "python",
   "nbconvert_exporter": "python",
   "pygments_lexer": "ipython3",
   "version": "3.6.6rc1"
  }
 },
 "nbformat": 4,
 "nbformat_minor": 2
}
