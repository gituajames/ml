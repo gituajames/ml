{
 "cells": [
  {
   "cell_type": "code",
   "execution_count": 3,
   "metadata": {},
   "outputs": [
    {
     "name": "stdout",
     "output_type": "stream",
     "text": [
      "UTM zone 11 coordinate (565718.5235, 3980998.9244) = 35.9730, -116.2711\n"
     ]
    }
   ],
   "source": [
    "import geopandas as gpd\n",
    "import pyproj\n",
    "UTM_X = 565718.5235\n",
    "UTM_Y = 3980998.9244\n",
    "srcProj = pyproj.Proj(proj=\"utm\", zone=\"11\", ellps=\"clrk66\",units=\"m\")\n",
    "dstProj = pyproj.Proj(proj=\"longlat\", ellps=\"WGS84\", datum=\"WGS84\")\n",
    "long,lat = pyproj.transform(srcProj, dstProj, UTM_X, UTM_Y)\n",
    "print (\"UTM zone 11 coordinate (%0.4f, %0.4f) = %0.4f, %0.4f\"% (UTM_X, UTM_Y, lat, long))"
   ]
  },
  {
   "cell_type": "code",
   "execution_count": 4,
   "metadata": {},
   "outputs": [
    {
     "name": "stdout",
     "output_type": "stream",
     "text": [
      "36.0367, -116.3496 is 10km northeast of 35.9730, -116.2711\n"
     ]
    }
   ],
   "source": [
    "angle = 315 # 315 degrees = northeast.\n",
    "distance = 10000\n",
    "geod = pyproj.Geod(ellps=\"WGS84\")\n",
    "long2,lat2,invAngle = geod.fwd(long, lat, angle, distance)\n",
    "print (\"%0.4f, %0.4f is 10km northeast of %0.4f, %0.4f\" \\\n",
    "% (lat2, long2, lat, long))"
   ]
  },
  {
   "cell_type": "code",
   "execution_count": 1,
   "metadata": {},
   "outputs": [
    {
     "name": "stdout",
     "output_type": "stream",
     "text": [
      "0.0 0.9999999999999999\n",
      "0.09801714032955743 0.9951847266721972\n",
      "0.1950903220161248 0.9807852804032311\n",
      "0.29028467725445867 0.9569403357322099\n",
      "0.3826834323650859 0.9238795325112884\n",
      "0.47139673682599365 0.8819212643483572\n",
      "0.5555702330195982 0.8314696123025479\n",
      "0.6343932841636415 0.7730104533627402\n",
      "0.7071067811865436 0.7071067811865515\n",
      "0.7730104533627332 0.63439328416365\n",
      "0.8314696123025418 0.5555702330196074\n",
      "0.8819212643483519 0.4713967368260034\n",
      "0.9238795325112841 0.38268343236509617\n",
      "0.9569403357322067 0.29028467725446927\n",
      "0.980785280403229 0.1950903220161357\n",
      "0.9951847266721962 0.09801714032956847\n",
      "1.0 8.238535137130597e-15\n",
      "1.0 0.0\n",
      "0.0 0.0\n",
      "0.0 0.9999999999999999\n"
     ]
    },
    {
     "ename": "AttributeError",
     "evalue": "'Polygon' object has no attribute 'plot'",
     "output_type": "error",
     "traceback": [
      "\u001b[0;31m---------------------------------------------------------------------------\u001b[0m",
      "\u001b[0;31mAttributeError\u001b[0m                            Traceback (most recent call last)",
      "\u001b[0;32m<ipython-input-1-e1559929009a>\u001b[0m in \u001b[0;36m<module>\u001b[0;34m()\u001b[0m\n\u001b[1;32m      9\u001b[0m     \u001b[0mprint\u001b[0m\u001b[0;34m(\u001b[0m\u001b[0mx\u001b[0m\u001b[0;34m,\u001b[0m\u001b[0my\u001b[0m\u001b[0;34m)\u001b[0m\u001b[0;34m\u001b[0m\u001b[0m\n\u001b[1;32m     10\u001b[0m \u001b[0;34m\u001b[0m\u001b[0m\n\u001b[0;32m---> 11\u001b[0;31m \u001b[0msquare\u001b[0m\u001b[0;34m.\u001b[0m\u001b[0mplot\u001b[0m\u001b[0;34m(\u001b[0m\u001b[0;34m)\u001b[0m\u001b[0;34m\u001b[0m\u001b[0m\n\u001b[0m",
      "\u001b[0;31mAttributeError\u001b[0m: 'Polygon' object has no attribute 'plot'"
     ]
    }
   ],
   "source": [
    "import shapely.geometry\n",
    "pt = shapely.geometry.Point(0, 0)\n",
    "circle = pt.buffer(1.0)\n",
    "square = shapely.geometry.Polygon([(0, 0), (1, 0),\n",
    "(1, 1), (0, 1),\n",
    "(0, 0)])\n",
    "intersect = circle.intersection(square)\n",
    "for x,y in intersect.exterior.coords:\n",
    "    print(x,y)\n",
    "    \n",
    "square.plot()"
   ]
  },
  {
   "cell_type": "code",
   "execution_count": 10,
   "metadata": {},
   "outputs": [],
   "source": [
    "import shutil"
   ]
  },
  {
   "cell_type": "code",
   "execution_count": null,
   "metadata": {},
   "outputs": [],
   "source": []
  }
 ],
 "metadata": {
  "kernelspec": {
   "display_name": "Python 3",
   "language": "python",
   "name": "python3"
  },
  "language_info": {
   "codemirror_mode": {
    "name": "ipython",
    "version": 3
   },
   "file_extension": ".py",
   "mimetype": "text/x-python",
   "name": "python",
   "nbconvert_exporter": "python",
   "pygments_lexer": "ipython3",
   "version": "3.6.6rc1"
  }
 },
 "nbformat": 4,
 "nbformat_minor": 2
}
